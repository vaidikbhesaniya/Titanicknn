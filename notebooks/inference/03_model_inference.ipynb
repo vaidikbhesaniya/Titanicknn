{
 "cells": [
  {
   "cell_type": "markdown",
   "id": "604b5d8a",
   "metadata": {},
   "source": [
    "# Model Inference and Predictions\n",
    "\n",
    "This notebook demonstrates how to use the trained model for making predictions on new data."
   ]
  },
  {
   "cell_type": "code",
   "execution_count": null,
   "id": "d168b2fc",
   "metadata": {},
   "outputs": [],
   "source": [
    "import sys\n",
    "sys.path.append('../../')\n",
    "\n",
    "from src.prediction.predictor import TitanicPredictor\n",
    "import pandas as pd"
   ]
  },
  {
   "cell_type": "code",
   "execution_count": null,
   "id": "f4b00d52",
   "metadata": {},
   "outputs": [],
   "source": [
    "# Initialize the predictor\n",
    "predictor = TitanicPredictor()"
   ]
  },
  {
   "cell_type": "code",
   "execution_count": null,
   "id": "e3a52709",
   "metadata": {},
   "outputs": [],
   "source": [
    "# Example prediction for a single passenger\n",
    "example_passenger = {\n",
    "    'PassengerId': 999,\n",
    "    'Pclass': 1,\n",
    "    'Sex': 'female',\n",
    "    'Age': 25,\n",
    "    'SibSp': 0,\n",
    "    'Parch': 0,\n",
    "    'Embarked': 'S'\n",
    "}\n",
    "\n",
    "result = predictor.predict_single(example_passenger)\n",
    "print(f\"Prediction result: {result}\")"
   ]
  },
  {
   "cell_type": "code",
   "execution_count": null,
   "id": "3543f0c7",
   "metadata": {},
   "outputs": [],
   "source": [
    "# Batch predictions example\n",
    "sample_passengers = pd.DataFrame([\n",
    "    {'Pclass': 1, 'Sex': 'female', 'Age': 25, 'SibSp': 0, 'Parch': 0, 'Embarked': 'S'},\n",
    "    {'Pclass': 3, 'Sex': 'male', 'Age': 30, 'SibSp': 1, 'Parch': 2, 'Embarked': 'C'},\n",
    "    {'Pclass': 2, 'Sex': 'female', 'Age': 35, 'SibSp': 0, 'Parch': 1, 'Embarked': 'Q'}\n",
    "])\n",
    "\n",
    "predictions = predictor.predict(sample_passengers)\n",
    "probabilities = predictor.predict_proba(sample_passengers)\n",
    "\n",
    "results_df = sample_passengers.copy()\n",
    "results_df['Prediction'] = predictions\n",
    "results_df['Survival_Probability'] = probabilities[:, 1]\n",
    "\n",
    "print(\"Batch prediction results:\")\n",
    "print(results_df)"
   ]
  }
 ],
 "metadata": {
  "language_info": {
   "name": "python"
  }
 },
 "nbformat": 4,
 "nbformat_minor": 5
}
