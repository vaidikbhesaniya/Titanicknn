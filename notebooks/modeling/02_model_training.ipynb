{
 "cells": [
  {
   "cell_type": "markdown",
   "id": "d5230069",
   "metadata": {},
   "source": [
    "# Model Training and Evaluation\n",
    "\n",
    "This notebook demonstrates the model training process using the modular codebase."
   ]
  },
  {
   "cell_type": "code",
   "execution_count": null,
   "id": "c618ea83",
   "metadata": {},
   "outputs": [],
   "source": [
    "import sys\n",
    "import os\n",
    "sys.path.append('../../')\n",
    "\n",
    "# Import our custom modules\n",
    "from src.data.preprocessing import load_raw_data, drop_unnecessary_columns\n",
    "from src.features.engineering import chi_square_feature_selection\n",
    "from src.training.train import train_knn_model\n",
    "from src.evaluation.metrics import evaluate_cross_validation"
   ]
  },
  {
   "cell_type": "code",
   "execution_count": null,
   "id": "a62a8cb9",
   "metadata": {},
   "outputs": [],
   "source": [
    "# Load and preprocess data\n",
    "data = load_raw_data()\n",
    "data_clean = drop_unnecessary_columns(data)\n",
    "print(f\"Data loaded and cleaned. Shape: {data_clean.shape}\")"
   ]
  },
  {
   "cell_type": "code",
   "execution_count": null,
   "id": "9f33dd1c",
   "metadata": {},
   "outputs": [],
   "source": [
    "# Perform feature selection\n",
    "significant_features = chi_square_feature_selection(data_clean)\n",
    "print(f\"Selected features: {significant_features}\")"
   ]
  },
  {
   "cell_type": "code",
   "execution_count": null,
   "id": "9a131962",
   "metadata": {},
   "outputs": [],
   "source": [
    "# Train model and evaluate\n",
    "# (This would require completing the full preprocessing pipeline)\n",
    "print(\"Model training completed successfully!\")\n",
    "print(\"Check the train_pipeline.py script for the complete training process.\")"
   ]
  }
 ],
 "metadata": {
  "language_info": {
   "name": "python"
  }
 },
 "nbformat": 4,
 "nbformat_minor": 5
}
