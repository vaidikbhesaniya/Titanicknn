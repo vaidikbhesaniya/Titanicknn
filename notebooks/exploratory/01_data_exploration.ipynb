{
 "cells": [
  {
   "cell_type": "markdown",
   "id": "e622a9a6",
   "metadata": {},
   "source": [
    "# Titanic Dataset - Exploratory Data Analysis\n",
    "\n",
    "This notebook contains exploratory data analysis for the Titanic survival prediction project."
   ]
  },
  {
   "cell_type": "code",
   "execution_count": null,
   "id": "a0a8261c",
   "metadata": {},
   "outputs": [],
   "source": [
    "import pandas as pd\n",
    "import numpy as np\n",
    "import matplotlib.pyplot as plt\n",
    "import seaborn as sns\n",
    "\n",
    "# Load the data\n",
    "data = pd.read_csv('../../../data/raw/Titanic.csv')\n",
    "print(f\"Data shape: {data.shape}\")\n",
    "data.head()"
   ]
  },
  {
   "cell_type": "code",
   "execution_count": null,
   "id": "29cadc15",
   "metadata": {},
   "outputs": [],
   "source": [
    "# Basic information about the dataset\n",
    "print(\"Dataset Info:\")\n",
    "print(data.info())\n",
    "print(\"\\nMissing values:\")\n",
    "print(data.isnull().sum())"
   ]
  },
  {
   "cell_type": "code",
   "execution_count": null,
   "id": "70c4cd84",
   "metadata": {},
   "outputs": [],
   "source": [
    "# Survival rate analysis\n",
    "plt.figure(figsize=(12, 5))\n",
    "\n",
    "plt.subplot(1, 2, 1)\n",
    "data['Survived'].value_counts().plot(kind='bar')\n",
    "plt.title('Survival Count')\n",
    "plt.xlabel('Survived (0: No, 1: Yes)')\n",
    "plt.ylabel('Count')\n",
    "\n",
    "plt.subplot(1, 2, 2)\n",
    "data['Survived'].value_counts(normalize=True).plot(kind='pie', autopct='%1.1f%%')\n",
    "plt.title('Survival Rate')\n",
    "plt.ylabel('')\n",
    "\n",
    "plt.tight_layout()\n",
    "plt.show()\n",
    "\n",
    "print(f\"Overall survival rate: {data['Survived'].mean():.3f}\")"
   ]
  },
  {
   "cell_type": "markdown",
   "id": "4ec7a7ea",
   "metadata": {},
   "source": [
    "## Feature Analysis"
   ]
  },
  {
   "cell_type": "code",
   "execution_count": null,
   "id": "884d9935",
   "metadata": {},
   "outputs": [],
   "source": [
    "# Analyze survival by passenger class\n",
    "plt.figure(figsize=(10, 6))\n",
    "sns.countplot(data=data, x='Pclass', hue='Survived')\n",
    "plt.title('Survival by Passenger Class')\n",
    "plt.show()\n",
    "\n",
    "print(\"Survival rate by class:\")\n",
    "print(data.groupby('Pclass')['Survived'].mean())"
   ]
  },
  {
   "cell_type": "code",
   "execution_count": null,
   "id": "0a3c43be",
   "metadata": {},
   "outputs": [],
   "source": [
    "# Analyze survival by gender\n",
    "plt.figure(figsize=(10, 6))\n",
    "sns.countplot(data=data, x='Sex', hue='Survived')\n",
    "plt.title('Survival by Gender')\n",
    "plt.show()\n",
    "\n",
    "print(\"Survival rate by gender:\")\n",
    "print(data.groupby('Sex')['Survived'].mean())"
   ]
  }
 ],
 "metadata": {
  "language_info": {
   "name": "python"
  }
 },
 "nbformat": 4,
 "nbformat_minor": 5
}
